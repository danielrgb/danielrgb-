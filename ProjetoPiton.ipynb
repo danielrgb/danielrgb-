{
  "nbformat": 4,
  "nbformat_minor": 0,
  "metadata": {
    "colab": {
      "provenance": [],
      "authorship_tag": "ABX9TyPpEuOR/AhKMPRcfYtn16Nt",
      "include_colab_link": true
    },
    "kernelspec": {
      "name": "python3",
      "display_name": "Python 3"
    },
    "language_info": {
      "name": "python"
    }
  },
  "cells": [
    {
      "cell_type": "markdown",
      "metadata": {
        "id": "view-in-github",
        "colab_type": "text"
      },
      "source": [
        "<a href=\"https://colab.research.google.com/github/danielrgb/danielrgb-/blob/main/ProjetoPiton.ipynb\" target=\"_parent\"><img src=\"https://colab.research.google.com/assets/colab-badge.svg\" alt=\"Open In Colab\"/></a>"
      ]
    },
    {
      "cell_type": "code",
      "execution_count": null,
      "metadata": {
        "id": "ZYRd4dJBQ74r"
      },
      "outputs": [],
      "source": [
        "n1 = float (input(\"n 1\"))\n",
        "n2 = float (input(\"n 2\"))\n",
        "soma = n1 = n2\n",
        "\n",
        "print(soma)"
      ]
    }
  ]
}